{
 "cells": [
  {
   "cell_type": "markdown",
   "metadata": {},
   "source": [
    "# <b>Milestone 1</b>\n",
    "\n",
    "Nama : Saepul Hilal\n",
    "\n",
    "Batch : HCK-010\n",
    "\n",
    "Program ini dibuat untuk mengasah kemampuan materi pada phase 0"
   ]
  },
  {
   "cell_type": "markdown",
   "metadata": {},
   "source": [
    "## <b> Link Tableau</b>\n",
    "\n",
    "https://public.tableau.com/views/Milestone1_16995417548080/Dashboard1?:language=en-US&publish=yes&:display_count=n&:origin=viz_share_link"
   ]
  },
  {
   "cell_type": "markdown",
   "metadata": {},
   "source": [
    "## <b>Indentifikasi Masalah</b>"
   ]
  },
  {
   "cell_type": "markdown",
   "metadata": {},
   "source": [
    "#### <b>Latar Belakang</b>\n",
    "Saya merupakan seorang data analysist yang bekerja di sebuah perusahaan yang bergerak dalam bidang ritel pakaian. di ujung tahun ini saya ditugaskan untuk mencari solusi dalam meningkatkan rating perusahaan, karena customer yang memberikan rating tinggi cenderung untuk membeli produk secara rutin. Untuk menyelesaikan tugas ini saya akan melakukan sebuah analisa untuk mencari apasaja hal yang berpengaruh dalam pemberian rating. efek dalam rating yang baik tentu saja akan memberikan profit yang baik pula\n",
    "#### <b>SMART Framework</b>\n",
    "\n",
    "- Specific : Meningkatkan rating yang diberikan customer\n",
    "\n",
    "- Measurable : mencapai customer retention sebesar 90%\n",
    "\n",
    "- Achievable : Meningkatkan layanan seperti memberikan diskon, menyediakan berbagai macam metode pembayaran, menerapkan member, dan menyediakan berbagai opsi pengiriman\n",
    "\n",
    "- Relevant : Rating yang tinggi akan meningkatkan jumlah pembelian oleh customer hal ini relevant untuk mendapatkan revenue yang tinggi\n",
    "\n",
    "- Time-bound : Program ini akan tercapai dalam 6 bulan kedepan\n",
    "\n",
    "#### <b>Problem Statement</b>\n",
    "Meningkatkan rating untuk mencapai customer ratention rate sebesar 90% dengan meningkatkan layanan member, diskon, metode pembayaran dan opsi pengiriman hal ini dapat meningkatkan revenue perusahaan dan program ini akan dijalankan selama 6 bulan kedepan\n",
    "\n",
    "#### <b>Penjabaran Permasalahan</b>\n",
    "Untuk mempermudah pengerjaan analisa, saya menjabarkan permasalahan dengan merangkum pertanyaan-pertanyaan sebagai berikut :\n",
    "\n",
    "1. Bagaimana pemusatan,persebaran data kolom rating dan apakah terdapat outlier?\n",
    "\n",
    "2. Apakah ada perbedaan signifikan rating di antara metode pembayaran?\n",
    "\n",
    "3. Bagaimana penjualan produk berdasarkan musim?\n",
    "\n",
    "4. Category apa yang paling laku?\n",
    "\n",
    "5. Metode pembayaran apa yang paling sering digunakan?\n",
    "\n",
    "6. Shipping type apa yang paling sering digunakan?\n",
    "\n",
    "\n"
   ]
  },
  {
   "cell_type": "markdown",
   "metadata": {},
   "source": [
    "## <b>Data Loading and Preparation</b>"
   ]
  },
  {
   "cell_type": "code",
   "execution_count": 51,
   "metadata": {},
   "outputs": [],
   "source": [
    "import pandas as pd\n",
    "import matplotlib.pyplot as plt\n",
    "import seaborn as sns\n",
    "from scipy import stats\n",
    "import numpy as np\n",
    "\n",
    "\n",
    "\n",
    "\n",
    "\n",
    "# Load data\n",
    "df = pd.read_csv(\"shopping_trends_updated.csv\")"
   ]
  },
  {
   "cell_type": "markdown",
   "metadata": {},
   "source": [
    "## <b> Eksplorasi Data </b>"
   ]
  },
  {
   "cell_type": "markdown",
   "metadata": {},
   "source": [
    "### <b>Melihat Isi Data"
   ]
  },
  {
   "cell_type": "code",
   "execution_count": 21,
   "metadata": {},
   "outputs": [
    {
     "data": {
      "text/html": [
       "<div>\n",
       "<style scoped>\n",
       "    .dataframe tbody tr th:only-of-type {\n",
       "        vertical-align: middle;\n",
       "    }\n",
       "\n",
       "    .dataframe tbody tr th {\n",
       "        vertical-align: top;\n",
       "    }\n",
       "\n",
       "    .dataframe thead th {\n",
       "        text-align: right;\n",
       "    }\n",
       "</style>\n",
       "<table border=\"1\" class=\"dataframe\">\n",
       "  <thead>\n",
       "    <tr style=\"text-align: right;\">\n",
       "      <th></th>\n",
       "      <th>Customer ID</th>\n",
       "      <th>Age</th>\n",
       "      <th>Gender</th>\n",
       "      <th>Item Purchased</th>\n",
       "      <th>Category</th>\n",
       "      <th>Purchase Amount (USD)</th>\n",
       "      <th>Location</th>\n",
       "      <th>Size</th>\n",
       "      <th>Color</th>\n",
       "      <th>Season</th>\n",
       "      <th>Review Rating</th>\n",
       "      <th>Subscription Status</th>\n",
       "      <th>Shipping Type</th>\n",
       "      <th>Discount Applied</th>\n",
       "      <th>Promo Code Used</th>\n",
       "      <th>Previous Purchases</th>\n",
       "      <th>Payment Method</th>\n",
       "      <th>Frequency of Purchases</th>\n",
       "    </tr>\n",
       "  </thead>\n",
       "  <tbody>\n",
       "    <tr>\n",
       "      <th>0</th>\n",
       "      <td>1</td>\n",
       "      <td>55</td>\n",
       "      <td>Male</td>\n",
       "      <td>Blouse</td>\n",
       "      <td>Clothing</td>\n",
       "      <td>53</td>\n",
       "      <td>Kentucky</td>\n",
       "      <td>L</td>\n",
       "      <td>Gray</td>\n",
       "      <td>Winter</td>\n",
       "      <td>3.1</td>\n",
       "      <td>Yes</td>\n",
       "      <td>Express</td>\n",
       "      <td>Yes</td>\n",
       "      <td>Yes</td>\n",
       "      <td>14</td>\n",
       "      <td>Venmo</td>\n",
       "      <td>Fortnightly</td>\n",
       "    </tr>\n",
       "    <tr>\n",
       "      <th>1</th>\n",
       "      <td>2</td>\n",
       "      <td>19</td>\n",
       "      <td>Male</td>\n",
       "      <td>Sweater</td>\n",
       "      <td>Clothing</td>\n",
       "      <td>64</td>\n",
       "      <td>Maine</td>\n",
       "      <td>L</td>\n",
       "      <td>Maroon</td>\n",
       "      <td>Winter</td>\n",
       "      <td>3.1</td>\n",
       "      <td>Yes</td>\n",
       "      <td>Express</td>\n",
       "      <td>Yes</td>\n",
       "      <td>Yes</td>\n",
       "      <td>2</td>\n",
       "      <td>Cash</td>\n",
       "      <td>Fortnightly</td>\n",
       "    </tr>\n",
       "    <tr>\n",
       "      <th>2</th>\n",
       "      <td>3</td>\n",
       "      <td>50</td>\n",
       "      <td>Male</td>\n",
       "      <td>Jeans</td>\n",
       "      <td>Clothing</td>\n",
       "      <td>73</td>\n",
       "      <td>Massachusetts</td>\n",
       "      <td>S</td>\n",
       "      <td>Maroon</td>\n",
       "      <td>Spring</td>\n",
       "      <td>3.1</td>\n",
       "      <td>Yes</td>\n",
       "      <td>Free Shipping</td>\n",
       "      <td>Yes</td>\n",
       "      <td>Yes</td>\n",
       "      <td>23</td>\n",
       "      <td>Credit Card</td>\n",
       "      <td>Weekly</td>\n",
       "    </tr>\n",
       "    <tr>\n",
       "      <th>3</th>\n",
       "      <td>4</td>\n",
       "      <td>21</td>\n",
       "      <td>Male</td>\n",
       "      <td>Sandals</td>\n",
       "      <td>Footwear</td>\n",
       "      <td>90</td>\n",
       "      <td>Rhode Island</td>\n",
       "      <td>M</td>\n",
       "      <td>Maroon</td>\n",
       "      <td>Spring</td>\n",
       "      <td>3.5</td>\n",
       "      <td>Yes</td>\n",
       "      <td>Next Day Air</td>\n",
       "      <td>Yes</td>\n",
       "      <td>Yes</td>\n",
       "      <td>49</td>\n",
       "      <td>PayPal</td>\n",
       "      <td>Weekly</td>\n",
       "    </tr>\n",
       "    <tr>\n",
       "      <th>4</th>\n",
       "      <td>5</td>\n",
       "      <td>45</td>\n",
       "      <td>Male</td>\n",
       "      <td>Blouse</td>\n",
       "      <td>Clothing</td>\n",
       "      <td>49</td>\n",
       "      <td>Oregon</td>\n",
       "      <td>M</td>\n",
       "      <td>Turquoise</td>\n",
       "      <td>Spring</td>\n",
       "      <td>2.7</td>\n",
       "      <td>Yes</td>\n",
       "      <td>Free Shipping</td>\n",
       "      <td>Yes</td>\n",
       "      <td>Yes</td>\n",
       "      <td>31</td>\n",
       "      <td>PayPal</td>\n",
       "      <td>Annually</td>\n",
       "    </tr>\n",
       "  </tbody>\n",
       "</table>\n",
       "</div>"
      ],
      "text/plain": [
       "   Customer ID  Age Gender Item Purchased  Category  Purchase Amount (USD)  \\\n",
       "0            1   55   Male         Blouse  Clothing                     53   \n",
       "1            2   19   Male        Sweater  Clothing                     64   \n",
       "2            3   50   Male          Jeans  Clothing                     73   \n",
       "3            4   21   Male        Sandals  Footwear                     90   \n",
       "4            5   45   Male         Blouse  Clothing                     49   \n",
       "\n",
       "        Location Size      Color  Season  Review Rating Subscription Status  \\\n",
       "0       Kentucky    L       Gray  Winter            3.1                 Yes   \n",
       "1          Maine    L     Maroon  Winter            3.1                 Yes   \n",
       "2  Massachusetts    S     Maroon  Spring            3.1                 Yes   \n",
       "3   Rhode Island    M     Maroon  Spring            3.5                 Yes   \n",
       "4         Oregon    M  Turquoise  Spring            2.7                 Yes   \n",
       "\n",
       "   Shipping Type Discount Applied Promo Code Used  Previous Purchases  \\\n",
       "0        Express              Yes             Yes                  14   \n",
       "1        Express              Yes             Yes                   2   \n",
       "2  Free Shipping              Yes             Yes                  23   \n",
       "3   Next Day Air              Yes             Yes                  49   \n",
       "4  Free Shipping              Yes             Yes                  31   \n",
       "\n",
       "  Payment Method Frequency of Purchases  \n",
       "0          Venmo            Fortnightly  \n",
       "1           Cash            Fortnightly  \n",
       "2    Credit Card                 Weekly  \n",
       "3         PayPal                 Weekly  \n",
       "4         PayPal               Annually  "
      ]
     },
     "execution_count": 21,
     "metadata": {},
     "output_type": "execute_result"
    }
   ],
   "source": [
    "df.head()"
   ]
  },
  {
   "cell_type": "markdown",
   "metadata": {},
   "source": [
    "### <b>Menampilkan Nama Kolom"
   ]
  },
  {
   "cell_type": "code",
   "execution_count": 22,
   "metadata": {},
   "outputs": [
    {
     "data": {
      "text/plain": [
       "Index(['Customer ID', 'Age', 'Gender', 'Item Purchased', 'Category',\n",
       "       'Purchase Amount (USD)', 'Location', 'Size', 'Color', 'Season',\n",
       "       'Review Rating', 'Subscription Status', 'Shipping Type',\n",
       "       'Discount Applied', 'Promo Code Used', 'Previous Purchases',\n",
       "       'Payment Method', 'Frequency of Purchases'],\n",
       "      dtype='object')"
      ]
     },
     "execution_count": 22,
     "metadata": {},
     "output_type": "execute_result"
    }
   ],
   "source": [
    "df.columns"
   ]
  },
  {
   "cell_type": "markdown",
   "metadata": {},
   "source": [
    "Informasi diatas merupakan 18 daftar isi nama-nama kolom dari data shopping_trends_update.csv. Kemudian saya akan menjelaskan nama dari kolom-kolom diatas sebagai berikut:\n",
    "\n",
    "1. Customer ID - Pengidentifikasi unik untuk setiap pelanggan.\n",
    "\n",
    "2. Age - Umur pelanggan.\n",
    "\n",
    "3. Gender - Jenis kelamin pelanggan.\n",
    "\n",
    "4. Item Purchased - Nama item yang dibeli pelanggan.\n",
    "\n",
    "5. Category - Kategori item.\n",
    "\n",
    "6. Purchase Amount (USD) - Harga item yang dibeli pelanggan.\n",
    "\n",
    "7. Location - Lokasi pembelian yang dilakukan pelanggan.\n",
    "\n",
    "8. Size - Ukuran Item.\n",
    "\n",
    "9. Color - Warna item.\n",
    "\n",
    "10. Season - Musim ketika pembelian item berlangsung.\n",
    "\n",
    "11. Review Rating - Rating yang diberikan oleh pelanggan.\n",
    "\n",
    "12. Subscription Status - Status member pelanggan (y/n).\n",
    "\n",
    "13. Shipping Type - Metode pengiriman barang yang dipilih oleh pelanggan.\n",
    "\n",
    "14. Discount Applied - Indikasi diskon digunakan dalam pembelian (y/n).\n",
    "\n",
    "15. Promo Code Used - Indikasi kode promo digunakan dalam pembelian (y/n).\n",
    "\n",
    "16. Previous Purchases - Total pembelian sebelumnya.\n",
    "\n",
    "17. Payment Method - Metode pembayaran yang dipilih oleh pelanggan.\n",
    "\n",
    "18. Frequency of Purchases - Frekuensi pembelian barang yang dilakukan pelanggan."
   ]
  },
  {
   "cell_type": "markdown",
   "metadata": {},
   "source": [
    "### <b>Menampilkan Informasi Data"
   ]
  },
  {
   "cell_type": "code",
   "execution_count": 23,
   "metadata": {},
   "outputs": [
    {
     "name": "stdout",
     "output_type": "stream",
     "text": [
      "<class 'pandas.core.frame.DataFrame'>\n",
      "RangeIndex: 3900 entries, 0 to 3899\n",
      "Data columns (total 18 columns):\n",
      " #   Column                  Non-Null Count  Dtype  \n",
      "---  ------                  --------------  -----  \n",
      " 0   Customer ID             3900 non-null   int64  \n",
      " 1   Age                     3900 non-null   int64  \n",
      " 2   Gender                  3900 non-null   object \n",
      " 3   Item Purchased          3900 non-null   object \n",
      " 4   Category                3900 non-null   object \n",
      " 5   Purchase Amount (USD)   3900 non-null   int64  \n",
      " 6   Location                3900 non-null   object \n",
      " 7   Size                    3900 non-null   object \n",
      " 8   Color                   3900 non-null   object \n",
      " 9   Season                  3900 non-null   object \n",
      " 10  Review Rating           3900 non-null   float64\n",
      " 11  Subscription Status     3900 non-null   object \n",
      " 12  Shipping Type           3900 non-null   object \n",
      " 13  Discount Applied        3900 non-null   object \n",
      " 14  Promo Code Used         3900 non-null   object \n",
      " 15  Previous Purchases      3900 non-null   int64  \n",
      " 16  Payment Method          3900 non-null   object \n",
      " 17  Frequency of Purchases  3900 non-null   object \n",
      "dtypes: float64(1), int64(4), object(13)\n",
      "memory usage: 548.6+ KB\n"
     ]
    }
   ],
   "source": [
    "df.info()"
   ]
  },
  {
   "cell_type": "markdown",
   "metadata": {},
   "source": [
    "Dari informasi diatas diketahui bahwa jumlah baris data sebanyak 3.900 data, total dari kolom ada 18 kolom yang terdiri dari 1 float 4 ubt dan 13 string"
   ]
  },
  {
   "cell_type": "markdown",
   "metadata": {},
   "source": [
    "## <b> Data Cleaning"
   ]
  },
  {
   "cell_type": "markdown",
   "metadata": {},
   "source": [
    "### <b> Missing Values"
   ]
  },
  {
   "cell_type": "code",
   "execution_count": 24,
   "metadata": {},
   "outputs": [
    {
     "data": {
      "text/plain": [
       "Customer ID               0\n",
       "Age                       0\n",
       "Gender                    0\n",
       "Item Purchased            0\n",
       "Category                  0\n",
       "Purchase Amount (USD)     0\n",
       "Location                  0\n",
       "Size                      0\n",
       "Color                     0\n",
       "Season                    0\n",
       "Review Rating             0\n",
       "Subscription Status       0\n",
       "Shipping Type             0\n",
       "Discount Applied          0\n",
       "Promo Code Used           0\n",
       "Previous Purchases        0\n",
       "Payment Method            0\n",
       "Frequency of Purchases    0\n",
       "dtype: int64"
      ]
     },
     "execution_count": 24,
     "metadata": {},
     "output_type": "execute_result"
    }
   ],
   "source": [
    "df.isnull().sum()"
   ]
  },
  {
   "cell_type": "markdown",
   "metadata": {},
   "source": [
    "Tidak terdapat missing values, sehingga tidak perlu ada treatment untuk missing values"
   ]
  },
  {
   "cell_type": "markdown",
   "metadata": {},
   "source": [
    "### <b> Data Duplicate"
   ]
  },
  {
   "cell_type": "code",
   "execution_count": 25,
   "metadata": {},
   "outputs": [
    {
     "name": "stdout",
     "output_type": "stream",
     "text": [
      "Total data duplicate : 0\n"
     ]
    }
   ],
   "source": [
    "print(f\"Total data duplicate : {df.duplicated().sum()}\")"
   ]
  },
  {
   "cell_type": "markdown",
   "metadata": {},
   "source": [
    "Tidak terdapat data duplicate, sehingga tidak perlu treatment untuk data duplicate"
   ]
  },
  {
   "cell_type": "markdown",
   "metadata": {},
   "source": [
    "### <b> Data Type"
   ]
  },
  {
   "cell_type": "code",
   "execution_count": 26,
   "metadata": {},
   "outputs": [
    {
     "name": "stdout",
     "output_type": "stream",
     "text": [
      "<class 'pandas.core.frame.DataFrame'>\n",
      "RangeIndex: 3900 entries, 0 to 3899\n",
      "Data columns (total 18 columns):\n",
      " #   Column                  Non-Null Count  Dtype  \n",
      "---  ------                  --------------  -----  \n",
      " 0   Customer ID             3900 non-null   int64  \n",
      " 1   Age                     3900 non-null   int64  \n",
      " 2   Gender                  3900 non-null   object \n",
      " 3   Item Purchased          3900 non-null   object \n",
      " 4   Category                3900 non-null   object \n",
      " 5   Purchase Amount (USD)   3900 non-null   int64  \n",
      " 6   Location                3900 non-null   object \n",
      " 7   Size                    3900 non-null   object \n",
      " 8   Color                   3900 non-null   object \n",
      " 9   Season                  3900 non-null   object \n",
      " 10  Review Rating           3900 non-null   float64\n",
      " 11  Subscription Status     3900 non-null   object \n",
      " 12  Shipping Type           3900 non-null   object \n",
      " 13  Discount Applied        3900 non-null   object \n",
      " 14  Promo Code Used         3900 non-null   object \n",
      " 15  Previous Purchases      3900 non-null   int64  \n",
      " 16  Payment Method          3900 non-null   object \n",
      " 17  Frequency of Purchases  3900 non-null   object \n",
      "dtypes: float64(1), int64(4), object(13)\n",
      "memory usage: 548.6+ KB\n"
     ]
    },
    {
     "data": {
      "text/html": [
       "<div>\n",
       "<style scoped>\n",
       "    .dataframe tbody tr th:only-of-type {\n",
       "        vertical-align: middle;\n",
       "    }\n",
       "\n",
       "    .dataframe tbody tr th {\n",
       "        vertical-align: top;\n",
       "    }\n",
       "\n",
       "    .dataframe thead th {\n",
       "        text-align: right;\n",
       "    }\n",
       "</style>\n",
       "<table border=\"1\" class=\"dataframe\">\n",
       "  <thead>\n",
       "    <tr style=\"text-align: right;\">\n",
       "      <th></th>\n",
       "      <th>Customer ID</th>\n",
       "      <th>Age</th>\n",
       "      <th>Gender</th>\n",
       "      <th>Item Purchased</th>\n",
       "      <th>Category</th>\n",
       "      <th>Purchase Amount (USD)</th>\n",
       "      <th>Location</th>\n",
       "      <th>Size</th>\n",
       "      <th>Color</th>\n",
       "      <th>Season</th>\n",
       "      <th>Review Rating</th>\n",
       "      <th>Subscription Status</th>\n",
       "      <th>Shipping Type</th>\n",
       "      <th>Discount Applied</th>\n",
       "      <th>Promo Code Used</th>\n",
       "      <th>Previous Purchases</th>\n",
       "      <th>Payment Method</th>\n",
       "      <th>Frequency of Purchases</th>\n",
       "    </tr>\n",
       "  </thead>\n",
       "  <tbody>\n",
       "    <tr>\n",
       "      <th>0</th>\n",
       "      <td>1</td>\n",
       "      <td>55</td>\n",
       "      <td>Male</td>\n",
       "      <td>Blouse</td>\n",
       "      <td>Clothing</td>\n",
       "      <td>53</td>\n",
       "      <td>Kentucky</td>\n",
       "      <td>L</td>\n",
       "      <td>Gray</td>\n",
       "      <td>Winter</td>\n",
       "      <td>3.1</td>\n",
       "      <td>Yes</td>\n",
       "      <td>Express</td>\n",
       "      <td>Yes</td>\n",
       "      <td>Yes</td>\n",
       "      <td>14</td>\n",
       "      <td>Venmo</td>\n",
       "      <td>Fortnightly</td>\n",
       "    </tr>\n",
       "    <tr>\n",
       "      <th>1</th>\n",
       "      <td>2</td>\n",
       "      <td>19</td>\n",
       "      <td>Male</td>\n",
       "      <td>Sweater</td>\n",
       "      <td>Clothing</td>\n",
       "      <td>64</td>\n",
       "      <td>Maine</td>\n",
       "      <td>L</td>\n",
       "      <td>Maroon</td>\n",
       "      <td>Winter</td>\n",
       "      <td>3.1</td>\n",
       "      <td>Yes</td>\n",
       "      <td>Express</td>\n",
       "      <td>Yes</td>\n",
       "      <td>Yes</td>\n",
       "      <td>2</td>\n",
       "      <td>Cash</td>\n",
       "      <td>Fortnightly</td>\n",
       "    </tr>\n",
       "    <tr>\n",
       "      <th>2</th>\n",
       "      <td>3</td>\n",
       "      <td>50</td>\n",
       "      <td>Male</td>\n",
       "      <td>Jeans</td>\n",
       "      <td>Clothing</td>\n",
       "      <td>73</td>\n",
       "      <td>Massachusetts</td>\n",
       "      <td>S</td>\n",
       "      <td>Maroon</td>\n",
       "      <td>Spring</td>\n",
       "      <td>3.1</td>\n",
       "      <td>Yes</td>\n",
       "      <td>Free Shipping</td>\n",
       "      <td>Yes</td>\n",
       "      <td>Yes</td>\n",
       "      <td>23</td>\n",
       "      <td>Credit Card</td>\n",
       "      <td>Weekly</td>\n",
       "    </tr>\n",
       "    <tr>\n",
       "      <th>3</th>\n",
       "      <td>4</td>\n",
       "      <td>21</td>\n",
       "      <td>Male</td>\n",
       "      <td>Sandals</td>\n",
       "      <td>Footwear</td>\n",
       "      <td>90</td>\n",
       "      <td>Rhode Island</td>\n",
       "      <td>M</td>\n",
       "      <td>Maroon</td>\n",
       "      <td>Spring</td>\n",
       "      <td>3.5</td>\n",
       "      <td>Yes</td>\n",
       "      <td>Next Day Air</td>\n",
       "      <td>Yes</td>\n",
       "      <td>Yes</td>\n",
       "      <td>49</td>\n",
       "      <td>PayPal</td>\n",
       "      <td>Weekly</td>\n",
       "    </tr>\n",
       "    <tr>\n",
       "      <th>4</th>\n",
       "      <td>5</td>\n",
       "      <td>45</td>\n",
       "      <td>Male</td>\n",
       "      <td>Blouse</td>\n",
       "      <td>Clothing</td>\n",
       "      <td>49</td>\n",
       "      <td>Oregon</td>\n",
       "      <td>M</td>\n",
       "      <td>Turquoise</td>\n",
       "      <td>Spring</td>\n",
       "      <td>2.7</td>\n",
       "      <td>Yes</td>\n",
       "      <td>Free Shipping</td>\n",
       "      <td>Yes</td>\n",
       "      <td>Yes</td>\n",
       "      <td>31</td>\n",
       "      <td>PayPal</td>\n",
       "      <td>Annually</td>\n",
       "    </tr>\n",
       "  </tbody>\n",
       "</table>\n",
       "</div>"
      ],
      "text/plain": [
       "   Customer ID  Age Gender Item Purchased  Category  Purchase Amount (USD)  \\\n",
       "0            1   55   Male         Blouse  Clothing                     53   \n",
       "1            2   19   Male        Sweater  Clothing                     64   \n",
       "2            3   50   Male          Jeans  Clothing                     73   \n",
       "3            4   21   Male        Sandals  Footwear                     90   \n",
       "4            5   45   Male         Blouse  Clothing                     49   \n",
       "\n",
       "        Location Size      Color  Season  Review Rating Subscription Status  \\\n",
       "0       Kentucky    L       Gray  Winter            3.1                 Yes   \n",
       "1          Maine    L     Maroon  Winter            3.1                 Yes   \n",
       "2  Massachusetts    S     Maroon  Spring            3.1                 Yes   \n",
       "3   Rhode Island    M     Maroon  Spring            3.5                 Yes   \n",
       "4         Oregon    M  Turquoise  Spring            2.7                 Yes   \n",
       "\n",
       "   Shipping Type Discount Applied Promo Code Used  Previous Purchases  \\\n",
       "0        Express              Yes             Yes                  14   \n",
       "1        Express              Yes             Yes                   2   \n",
       "2  Free Shipping              Yes             Yes                  23   \n",
       "3   Next Day Air              Yes             Yes                  49   \n",
       "4  Free Shipping              Yes             Yes                  31   \n",
       "\n",
       "  Payment Method Frequency of Purchases  \n",
       "0          Venmo            Fortnightly  \n",
       "1           Cash            Fortnightly  \n",
       "2    Credit Card                 Weekly  \n",
       "3         PayPal                 Weekly  \n",
       "4         PayPal               Annually  "
      ]
     },
     "execution_count": 26,
     "metadata": {},
     "output_type": "execute_result"
    }
   ],
   "source": [
    "df.info()\n",
    "df.head()"
   ]
  },
  {
   "cell_type": "markdown",
   "metadata": {},
   "source": [
    "Dari informasi diatas perlu ada perubahan tipe data kolom \"Purchase Amount (USD)\" menjadi float. dan mengganti isi pada kolom \"Discount Applied\" dan \"Promo Code Used\" dari yes menjadi 1 dan no menjadi 0, serta mengganti tipe datanya menjadi int."
   ]
  },
  {
   "cell_type": "code",
   "execution_count": 27,
   "metadata": {},
   "outputs": [],
   "source": [
    "# Mengganti tipe data\n",
    "df['Purchase Amount (USD)'] = df['Purchase Amount (USD)'].astype(float)\n",
    "\n",
    "# Mengganti isi kolom Discount Applied\n",
    "df['Discount Applied'] = df['Discount Applied'].str.replace('Yes','1').str.replace('No','2').astype(int)\n",
    "\n",
    "# Mengganti isi kolom Promo Code Used\n",
    "df['Promo Code Used'] = df['Promo Code Used'].str.replace('Yes','1').str.replace('No','2').astype(int)\n",
    "\n",
    "df['Subscription Status'] = df['Subscription Status'].str.replace('Yes','1').str.replace('No','2').astype(int)"
   ]
  },
  {
   "cell_type": "markdown",
   "metadata": {},
   "source": [
    "## <b> Data Analysis"
   ]
  },
  {
   "cell_type": "markdown",
   "metadata": {},
   "source": [
    "### <b>1. Bagaimana pemusatan,persebaran data kolom rating dan apakah terdapat outlier?\n",
    "\n",
    "\n"
   ]
  },
  {
   "cell_type": "code",
   "execution_count": 28,
   "metadata": {},
   "outputs": [
    {
     "name": "stdout",
     "output_type": "stream",
     "text": [
      "Mean rating : 3.7499487179487176\n",
      "Median rating : 3.7\n",
      "Modus rating : 3.4\n"
     ]
    }
   ],
   "source": [
    "print(f\"Mean rating : {df['Review Rating'].mean()}\")\n",
    "print(f\"Median rating : {df['Review Rating'].median()}\")\n",
    "print(f\"Modus rating : {df['Review Rating'].mode()[0]}\")\n",
    "\n"
   ]
  },
  {
   "cell_type": "markdown",
   "metadata": {},
   "source": [
    "Dari informasi diatas diketahui bahwa kolom \"Review Rating\" memiliki mean 3.74 Median 3.7 dan rating 3.4. Ini menggambarkan pemusatan datanya tidak simetris melainkan agak condong ke arah kanan dikarenakan nilai mean lebih besar dari median dan nilai median lebih besar dari modus namun perbedaannya sangat tipis. Berikutnya akan dilakukan Normality test untuk mengetahui apakah data ini normal atau tidak"
   ]
  },
  {
   "cell_type": "markdown",
   "metadata": {},
   "source": [
    "#### <b> Normality Test - Skewness & Kurtosis"
   ]
  },
  {
   "cell_type": "code",
   "execution_count": 29,
   "metadata": {},
   "outputs": [
    {
     "name": "stdout",
     "output_type": "stream",
     "text": [
      "Skewness : 0.00452459644246527\n",
      "Kurotsis : -1.1796283021299137\n"
     ]
    }
   ],
   "source": [
    "print(f\"Skewness : {df['Review Rating'].skew()}\")\n",
    "print(f\"Kurotsis : {df['Review Rating'].kurtosis()}\")"
   ]
  },
  {
   "cell_type": "markdown",
   "metadata": {},
   "source": [
    "Nilai dari skewness diatas sebesar 0.00452459644246527 nilai ini berada diantara -0,5 dan 0,5. Artinya data dari kolom 'Review Rating' masih dianggap normal dan simetris walaupun nilai pada central tendencynya tidak semua sama. Sedangkan untuk kurtosis memiliki nilai sebesar -1.1796283021299137 nilai tersebut kurang dari 0 yang artinya masuk kedalam kategori Platykurtic. Platykurtic menunjukan bahwa outlier yang ada pada data ini lebih sedikit dibanding distribusi normal atau bahkan tidak ada. Agar mengetahuinya saya akan mengeluarkan gambar untuk mengetahui ada atau tidaknya outlier"
   ]
  },
  {
   "cell_type": "markdown",
   "metadata": {},
   "source": [
    "#### <b> Outliers</b>\n",
    "\n",
    "Saya akan memvalidasi keberadaan outliers yang dimiliki kolom Review Rating dengan boxplot"
   ]
  },
  {
   "cell_type": "code",
   "execution_count": 30,
   "metadata": {},
   "outputs": [
    {
     "data": {
      "text/plain": [
       "<Axes: >"
      ]
     },
     "execution_count": 30,
     "metadata": {},
     "output_type": "execute_result"
    },
    {
     "data": {
      "image/png": "[encoded data removed]",
      "text/plain": [
       "<Figure size 1000x400 with 2 Axes>"
      ]
     },
     "metadata": {},
     "output_type": "display_data"
    }
   ],
   "source": [
    "fig, ax = plt.subplots(ncols=2,figsize=(10,4))\n",
    "\n",
    "df['Review Rating'].plot(kind='hist',bins=20,ax=ax[0])\n",
    "df['Review Rating'].plot(kind='box',ax=ax[1])"
   ]
  },
  {
   "cell_type": "markdown",
   "metadata": {},
   "source": [
    "Gambar diatas membuktikan bahwa outlier kolom \"Review Rating\" tidak ada."
   ]
  },
  {
   "cell_type": "markdown",
   "metadata": {},
   "source": [
    "### <b>2. Apakah ada perbedaan signifikan rating di antara metode pembayaran?\n"
   ]
  },
  {
   "cell_type": "markdown",
   "metadata": {},
   "source": [
    "#### <b> Perbedaan rating di antara metode pembayaran</b>\n",
    "\n",
    "Analisa ini akan mencari perbedaan rating dengan metode pembayaran menggunakan annova test. Hipotesa dalam pengujian ini sebagai berikut:\n",
    "\n",
    "- H0 : Tidak ada perbedaan signifikan rating pada metode pembayaran\n",
    "\n",
    "- H1 : Terdapat perbedaan signifikan rating pada metode pembayaran\n"
   ]
  },
  {
   "cell_type": "code",
   "execution_count": 31,
   "metadata": {},
   "outputs": [
    {
     "data": {
      "text/plain": [
       "array(['Venmo', 'Cash', 'Credit Card', 'PayPal', 'Bank Transfer',\n",
       "       'Debit Card'], dtype=object)"
      ]
     },
     "execution_count": 31,
     "metadata": {},
     "output_type": "execute_result"
    }
   ],
   "source": [
    "# Mencari nilai uniq dari metode pembayaran\n",
    "df['Payment Method'].unique()"
   ]
  },
  {
   "cell_type": "markdown",
   "metadata": {},
   "source": [
    "Metode pembayaran pada data ini adalah:\n",
    "- Venmo\n",
    "- Cash\n",
    "- Credit Card\n",
    "- PayPal\n",
    "- Bank Transfer\n",
    "- Debit Card"
   ]
  },
  {
   "cell_type": "code",
   "execution_count": 69,
   "metadata": {},
   "outputs": [
    {
     "name": "stdout",
     "output_type": "stream",
     "text": [
      "Average rating dari metode pemabayaran Venmo: 3.75\n",
      "Average rating dari metode pemabayaran Cash: 3.75\n",
      "Average rating dari metode pemabayaran Credit Card: 3.78\n",
      "Average rating dari metode pemabayaran PayPal: 3.75\n",
      "Average rating dari metode pemabayaran Bank Transfer: 3.70\n",
      "Average rating dari metode pemabayaran Debit Card: 3.76\n"
     ]
    }
   ],
   "source": [
    "# Membuat data baru berdasarakan rating dan metode pembayarannya\n",
    "venmo = df['Review Rating'][(df['Payment Method']=='Venmo')]\n",
    "cash = df['Review Rating'][(df['Payment Method']=='Cash')]\n",
    "cc = df['Review Rating'][(df['Payment Method']=='Credit Card')]\n",
    "paypal = df['Review Rating'][(df['Payment Method']=='PayPal')]\n",
    "transfer = df['Review Rating'][(df['Payment Method']=='Bank Transfer')]\n",
    "debit = df['Review Rating'][(df['Payment Method']=='Debit Card')]\n",
    "\n",
    "print(f'Average rating dari metode pemabayaran Venmo: {venmo.mean():.2f}')\n",
    "print(f'Average rating dari metode pemabayaran Cash: {cash.mean():.2f}')\n",
    "print(f'Average rating dari metode pemabayaran Credit Card: {cc.mean():.2f}')\n",
    "print(f'Average rating dari metode pemabayaran PayPal: {paypal.mean():.2f}')\n",
    "print(f'Average rating dari metode pemabayaran Bank Transfer: {transfer.mean():.2f}')\n",
    "print(f'Average rating dari metode pemabayaran Debit Card: {debit.mean():.2f}')\n"
   ]
  },
  {
   "cell_type": "markdown",
   "metadata": {},
   "source": [
    "Dari informasi diatas masing-masing memiliki nilai rata-rata yang tidak terlalu jauh. Apakah nilaii tersebut terjadi karna kebetulan atau tidak? mari kita validasi dengan menggunakan anova test."
   ]
  },
  {
   "cell_type": "code",
   "execution_count": 70,
   "metadata": {},
   "outputs": [
    {
     "name": "stdout",
     "output_type": "stream",
     "text": [
      "P-value: 0.5037905569911245\n"
     ]
    }
   ],
   "source": [
    "# Anova test\n",
    "\n",
    "res = stats.f_oneway(venmo,cash,cc,paypal,transfer,debit)\n",
    "print('P-value:',res.pvalue)"
   ]
  },
  {
   "cell_type": "markdown",
   "metadata": {},
   "source": [
    "Hasil dari anova test memberikan p-value lebih dari 0,05 yang berarti H0 diterma. Dapat disimpulkan bahwa tidak ada perbedaan signifikan rating pada metode pembayaran. Lantas kolom data mana yang mempengaruhi rating mari kita cek hubungan rating dengan kolom-kolom lainya."
   ]
  },
  {
   "cell_type": "code",
   "execution_count": 74,
   "metadata": {},
   "outputs": [
    {
     "name": "stdout",
     "output_type": "stream",
     "text": [
      "P-value Frequency of Purchases: 0.7065755748940902\n",
      "P-value Category: 0.15657879668723304\n",
      "P-value Season: 0.16569808106402317\n",
      "P-value Subscription Status: 0.690953510741934\n",
      "P-value Discount Applied: 0.4356782921758937\n",
      "P-value Promo Code Used: 0.4356782921758937\n",
      "P-value Shipping Type: 0.06169557674937599\n",
      "P-value Location: 0.9080393273804206\n"
     ]
    }
   ],
   "source": [
    "# Test Anova rating dengan location\n",
    "Kentucky = df['Review Rating'][(df['Location']=='Kentucky')]\n",
    "Maine = df['Review Rating'][(df['Location']=='Maine')]\n",
    "Massachusetts = df['Review Rating'][(df['Location']=='Massachusetts')]\n",
    "Rhode = df['Review Rating'][(df['Location']=='Rhode Island')]\n",
    "Oregon = df['Review Rating'][(df['Location']=='Oregon')]\n",
    "Wyoming = df['Review Rating'][(df['Location']=='Wyoming')]\n",
    "Montana = df['Review Rating'][(df['Location']=='Montana')]\n",
    "Louisiana = df['Review Rating'][(df['Location']=='Louisiana')]\n",
    "West = df['Review Rating'][(df['Location']=='West Virginia')]\n",
    "Missouri = df['Review Rating'][(df['Location']=='Missouri')]\n",
    "Arkansas = df['Review Rating'][(df['Location']=='Arkansas')]\n",
    "Hawaii = df['Review Rating'][(df['Location']=='Hawaii')]\n",
    "Delaware = df['Review Rating'][(df['Location']=='Delaware')]\n",
    "Hampshire = df['Review Rating'][(df['Location']=='New Hampshire')]\n",
    "York = df['Review Rating'][(df['Location']=='New York')]\n",
    "Alabama = df['Review Rating'][(df['Location']=='Alabama')]\n",
    "Mississippi = df['Review Rating'][(df['Location']=='Mississippi')]\n",
    "Carolina = df['Review Rating'][(df['Location']=='North Carolina')]\n",
    "California = df['Review Rating'][(df['Location']=='California')]\n",
    "Oklahoma = df['Review Rating'][(df['Location']=='Oklahoma')]\n",
    "Florida = df['Review Rating'][(df['Location']=='Florida')]\n",
    "Texas = df['Review Rating'][(df['Location']=='Texas')]\n",
    "Nevada = df['Review Rating'][(df['Location']=='Nevada')]\n",
    "Kansas = df['Review Rating'][(df['Location']=='Kansas')]\n",
    "Colorado = df['Review Rating'][(df['Location']=='Colorado')]\n",
    "Dakota = df['Review Rating'][(df['Location']=='North Dakota')]\n",
    "Illinois = df['Review Rating'][(df['Location']=='Illinois')]\n",
    "Indiana = df['Review Rating'][(df['Location']=='Indiana')]\n",
    "Arizona = df['Review Rating'][(df['Location']=='Arizona')]\n",
    "Alaska = df['Review Rating'][(df['Location']=='Alaska')]\n",
    "Tennessee = df['Review Rating'][(df['Location']=='Tennessee')]\n",
    "Ohio = df['Review Rating'][(df['Location']=='Ohio')]\n",
    "Jersey = df['Review Rating'][(df['Location']=='New Jersey')]\n",
    "Maryland = df['Review Rating'][(df['Location']=='Maryland')]\n",
    "Vermont = df['Review Rating'][(df['Location']=='Vermont')]\n",
    "Mexico = df['Review Rating'][(df['Location']=='New Mexico')]\n",
    "Carolina = df['Review Rating'][(df['Location']=='South Carolina')]\n",
    "Idaho = df['Review Rating'][(df['Location']=='Idaho')]\n",
    "Pennsylvania = df['Review Rating'][(df['Location']=='Pennsylvania')]\n",
    "Connecticut = df['Review Rating'][(df['Location']=='Connecticut')]\n",
    "Utah = df['Review Rating'][(df['Location']=='Utah')]\n",
    "Virginia = df['Review Rating'][(df['Location']=='Virginia')]\n",
    "Georgia = df['Review Rating'][(df['Location']=='Georgia')]\n",
    "Nebraska = df['Review Rating'][(df['Location']=='Nebraska')]\n",
    "Iowa = df['Review Rating'][(df['Location']=='Iowa')]\n",
    "Dakota = df['Review Rating'][(df['Location']=='South Dakota')]\n",
    "Minnesota = df['Review Rating'][(df['Location']=='Minnesota')]\n",
    "Washington = df['Review Rating'][(df['Location']=='Washington')]\n",
    "Wisconsin = df['Review Rating'][(df['Location']=='Wisconsin')]\n",
    "Michigan = df['Review Rating'][(df['Location']=='Michigan')]\n",
    "\n",
    "# Test Anova rating dengan Shipping Type\n",
    "Express = df['Review Rating'][(df['Shipping Type']=='Express')]\n",
    "free = df['Review Rating'][(df['Shipping Type']=='Free Shipping')]\n",
    "nextDay = df['Review Rating'][(df['Shipping Type']=='Next Day Air')]\n",
    "Standard = df['Review Rating'][(df['Shipping Type']=='Standard')]\n",
    "twoDay = df['Review Rating'][(df['Shipping Type']=='2-Day Shipping')]\n",
    "\n",
    "# Test Anova rating dengan Promo Code Used\n",
    "yesPromo = df['Review Rating'][(df['Promo Code Used']=='Yes')]\n",
    "noPromo = df['Review Rating'][(df['Promo Code Used']=='No')]\n",
    "\n",
    "# Test Anova rating dengan Discount Applied\n",
    "yesDisscount = df['Review Rating'][(df['Discount Applied']=='Yes')]\n",
    "noDisscount = df['Review Rating'][(df['Discount Applied']=='No')]\n",
    "\n",
    "# Test Anova rating dengan Subscription Status\n",
    "satu = df['Review Rating'][(df['Subscription Status']=='Yes')]\n",
    "nol = df['Review Rating'][(df['Subscription Status']=='No')]\n",
    "\n",
    "# Test Anova rating dengan Season\n",
    "Winter = df['Review Rating'][(df['Season']=='Winter')]\n",
    "Spring = df['Review Rating'][(df['Season']=='Spring')]\n",
    "Summer = df['Review Rating'][(df['Season']=='Summer')]\n",
    "Fall = df['Review Rating'][(df['Season']=='Fall')]\n",
    "\n",
    "# Test Anova rating dengan Category\n",
    "Clothing = df['Review Rating'][(df['Category']=='Clothing')]\n",
    "Footwear = df['Review Rating'][(df['Category']=='Footwear')]\n",
    "Outerwear = df['Review Rating'][(df['Category']=='Outerwear')]\n",
    "Accessories = df['Review Rating'][(df['Category']=='Accessories')]\n",
    "\n",
    "# Test Anova rating dengan Frequency of Purchases\n",
    "fortnightly = df['Review Rating'][(df['Frequency of Purchases']=='Fortnightly')]\n",
    "weekly = df['Review Rating'][(df['Frequency of Purchases']=='Weekly')]\n",
    "annually = df['Review Rating'][(df['Frequency of Purchases']=='Annually')]\n",
    "quarterly = df['Review Rating'][(df['Frequency of Purchases']=='Quarterly')]\n",
    "biWeekly = df['Review Rating'][(df['Frequency of Purchases']=='Bi-Weekly')]\n",
    "monthly = df['Review Rating'][(df['Frequency of Purchases']=='Monthly')]\n",
    "every = df['Review Rating'][(df['Frequency of Purchases']=='Every 3 Months')]\n",
    "\n",
    "res = stats.f_oneway(fortnightly,weekly,annually,quarterly,biWeekly,monthly,every)\n",
    "print('P-value Frequency of Purchases:',res.pvalue)\n",
    "\n",
    "res = stats.f_oneway(Clothing,Footwear,Outerwear,Accessories)\n",
    "print('P-value Category:',res.pvalue)\n",
    "\n",
    "res = stats.f_oneway(Winter,Spring,Summer,Fall)\n",
    "print('P-value Season:',res.pvalue)\n",
    "\n",
    "res = stats.f_oneway(satu,nol)\n",
    "print('P-value Subscription Status:',res.pvalue)\n",
    "\n",
    "res = stats.f_oneway(yesDisscount,noDisscount)\n",
    "print('P-value Discount Applied:',res.pvalue)\n",
    "\n",
    "res = stats.f_oneway(yesPromo,noPromo)\n",
    "print('P-value Promo Code Used:',res.pvalue)\n",
    "\n",
    "res = stats.f_oneway(Express,free,nextDay,Standard,twoDay)\n",
    "print('P-value Shipping Type:',res.pvalue)\n",
    "\n",
    "\n",
    "res = stats.f_oneway(Kentucky,Maine,Massachusetts,Rhode,Oregon,Wyoming,Montana,Louisiana,West,Missouri,Arkansas,Hawaii,Delaware,Hampshire,York,Alabama,Mississippi,\n",
    "                     Carolina,California,Oklahoma,Florida,Texas,Nevada,Kansas,Colorado,Dakota,Illinois,Indiana,Arizona,Tennessee,Ohio,Jersey,Maryland,Vermont,Mexico,\n",
    "                     Carolina,Idaho,Pennsylvania,Connecticut,Utah,Virginia,Georgia,Nebraska,Iowa,Dakota,Minnesota,Washington,Wisconsin,Michigan, Alaska)\n",
    "print('P-value Location:',res.pvalue)"
   ]
  },
  {
   "cell_type": "markdown",
   "metadata": {},
   "source": [
    "Dari hasil uji Anova diatas tidak ada P-Value yang mengahasilkan H1 diterima. artinya tidak ada perbedaan signifikan 'Review Rating' dengan kolom-kolom lain yang tersedia pada data ini."
   ]
  },
  {
   "cell_type": "markdown",
   "metadata": {},
   "source": [
    "### <b>3. Bagaimana penjualan produk berdasarkan musim?\n",
    "\n"
   ]
  },
  {
   "cell_type": "code",
   "execution_count": 34,
   "metadata": {},
   "outputs": [
    {
     "data": {
      "image/png": "[encoded data removed]",
      "text/plain": [
       "<Figure size 1500x1000 with 4 Axes>"
      ]
     },
     "metadata": {},
     "output_type": "display_data"
    }
   ],
   "source": [
    "fig, axes = plt.subplots(ncols=2,nrows=2,figsize=(15,10)) #ncols,nrows,figsize=(width,height)\n",
    "\n",
    "axes[0][0].set_title('Season Winter')\n",
    "axes[0][1].set_title('Season Spring')\n",
    "axes[1][0].set_title('Season Summer')\n",
    "axes[1][1].set_title('Season Fall')\n",
    "\n",
    "winter = df['Item Purchased'] [df['Season']==\"Winter\"]\n",
    "winter.value_counts().plot(ax=axes[0][0],kind='bar')\n",
    "\n",
    "spring = df['Item Purchased'] [df['Season']==\"Spring\"]\n",
    "spring.value_counts().plot(ax=axes[0][1],kind='bar')\n",
    "\n",
    "summer = df['Item Purchased'] [df['Season']==\"Summer\"]\n",
    "summer.value_counts().plot(ax=axes[1][0],kind='bar')\n",
    "\n",
    "fall = df['Item Purchased'] [df['Season']==\"Fall\"]\n",
    "fall.value_counts().plot(ax=axes[1][1],kind='bar')\n",
    "\n",
    "fig.suptitle(\"Sales by Season\")\n",
    "fig.subplots_adjust(hspace=0.76)"
   ]
  },
  {
   "cell_type": "markdown",
   "metadata": {},
   "source": [
    "- Pada season winter item sunglasses paling banyak terjual dan item backpack terjual paling sedikit dibanding penjualan item lainnya\n",
    "\n",
    "- Pada season spring item sweater paling banyak terjual dan item hat terjual paling sedikit dibanding penjualan item lainnya\n",
    "\n",
    "- Pada season summer item pants paling banyak terjual dan item sweater dan skirt terjual paling sedikit dibanding penjualan item lainnya\n",
    "\n",
    "- Pada season fall item jacket paling banyak terjual dan item Shoes terjual paling sedikit dibanding penjualan item lainnya"
   ]
  },
  {
   "cell_type": "markdown",
   "metadata": {},
   "source": [
    "### <b> 4. Category apa yang paling laku?"
   ]
  },
  {
   "cell_type": "code",
   "execution_count": 35,
   "metadata": {},
   "outputs": [
    {
     "data": {
      "text/plain": [
       "array(['Clothing', 'Footwear', 'Outerwear', 'Accessories'], dtype=object)"
      ]
     },
     "execution_count": 35,
     "metadata": {},
     "output_type": "execute_result"
    }
   ],
   "source": [
    "df['Category'].unique()"
   ]
  },
  {
   "cell_type": "code",
   "execution_count": 36,
   "metadata": {},
   "outputs": [
    {
     "data": {
      "image/png": "[encoded data removed]",
      "text/plain": [
       "<Figure size 800x800 with 1 Axes>"
      ]
     },
     "metadata": {},
     "output_type": "display_data"
    }
   ],
   "source": [
    "fig,ax1 = plt.subplots(figsize=(8,8))\n",
    "fig.suptitle(\"Sales by Category\")\n",
    "\n",
    "df['Category'].value_counts().plot(kind='pie', autopct='%.2f%%',ax=ax1)\n",
    "plt.show()\n"
   ]
  },
  {
   "cell_type": "markdown",
   "metadata": {},
   "source": [
    "Pie chart diatas menjelaskan bahwa peringkat penjualan dipimpin oleh kategori cloting 44.54% lalu accessories 31.79% kemudian footwear 15.36% dan paling akhir outwear 8.31%"
   ]
  },
  {
   "cell_type": "markdown",
   "metadata": {},
   "source": [
    "### <b> 5. Metode pembayaran apa yang paling sering digunakan?\n"
   ]
  },
  {
   "cell_type": "code",
   "execution_count": 37,
   "metadata": {},
   "outputs": [
    {
     "data": {
      "text/plain": [
       "<Axes: ylabel='Payment Method'>"
      ]
     },
     "execution_count": 37,
     "metadata": {},
     "output_type": "execute_result"
    },
    {
     "data": {
      "image/png": "[encoded data removed]",
      "text/plain": [
       "<Figure size 800x800 with 1 Axes>"
      ]
     },
     "metadata": {},
     "output_type": "display_data"
    }
   ],
   "source": [
    "fig,ax1 = plt.subplots(figsize=(8,8))\n",
    "\n",
    "df['Payment Method'].value_counts().plot(kind='barh')"
   ]
  },
  {
   "cell_type": "markdown",
   "metadata": {},
   "source": [
    "Metode pembayaran paypal paling sering digunakan dan yang paling sedikit digunakan adalah bank transfer"
   ]
  },
  {
   "cell_type": "markdown",
   "metadata": {},
   "source": [
    "### <b>6. Shipping type apa yang paling sering digunakan?"
   ]
  },
  {
   "cell_type": "code",
   "execution_count": 38,
   "metadata": {},
   "outputs": [
    {
     "data": {
      "text/plain": [
       "<Axes: ylabel='Shipping Type'>"
      ]
     },
     "execution_count": 38,
     "metadata": {},
     "output_type": "execute_result"
    },
    {
     "data": {
      "image/png": "[encoded data removed]",
      "text/plain": [
       "<Figure size 640x480 with 1 Axes>"
      ]
     },
     "metadata": {},
     "output_type": "display_data"
    }
   ],
   "source": [
    "df['Shipping Type'].value_counts().plot(kind=\"barh\")"
   ]
  },
  {
   "cell_type": "markdown",
   "metadata": {},
   "source": [
    "Metode pengiriman yang paling sering digunakan adalah Free Shipping dan yang paling sedikit digunakan adalah 2-day shipping"
   ]
  },
  {
   "cell_type": "markdown",
   "metadata": {},
   "source": [
    "## <b> Conclusion"
   ]
  },
  {
   "cell_type": "markdown",
   "metadata": {},
   "source": [
    "- \"Review Rating\" memiliki mean 3.74 Median 3.7 dan rating 3.4 namun memiliki nilai skewness diatas sebesar 0.00452459644246527 yang menjelaskan bahwa kolom 'Review Rating' masih dianggap normal dan simetris. Serta kolom 'Review Rating' memiliki nilai kurtosis -1.1796283021299137 yang menjelaskan data ini masuk kedalam kategori Platykurtic sertta tidak terdapat outlier pada data ini.\n",
    "\n",
    "- Berikutnya saya melakukan pengujian pada anova test untuk mengetahui apakah ada perbedaan signifikan rating pada metode pembayaran dan hasilnya memberikan p-value lebih dari 0,05 yang berarti tidak ada perbedaan signifikan rating pada metode pembayaran. Artinya perbedaan setiap rating tidak dipengaruhi oleh metode pembayaran yang tersedia. Saya pun juga telah melakukan pengujian Anova dengan kolom lain hasilnya pun sama kolom 'Review Rating' tidak memiliki hubungan dengan kolom lain. Jadi berdasarkan data yang ada saya tidak dapat memberikan kesimpulan yang tepat dalam hal menaikan rating dikarenakan data set yang terbatas.\n",
    "\n",
    "- Kesimpulan pada penjualan berdasarkan musim sebagai berikut: Tercatat bahwa penjualan terendah pada musim winter adalah item backpack, pada musim spring adalah item hat, pada musim summer adalah item sweater dan skirt, dan pada musim fall adalah item Shoes. Perlu ditingkatkan kembali penjualan item-item yang menduduki peringkat terendah di setiap musimnya agar mendapatkan revenue lebih tinggi. \n",
    "\n",
    "- Saya juga memvisualkan kategori dengan menggunakan Pie Chart hasilnya adalah kategori clothing paling banyak terjual dan kategori outwear paling sedikit3\n",
    "\n",
    "- Untuk masalah Metode pembayaran terlihat hasilnya terlihat tidak berbeda jauh namun yang paling sering digunakan adalah metode pembayaran menggunakan PayPal\n",
    "\n",
    "- Untuk metode pengiriman yang paling sering digunakan adalah free shipping"
   ]
  }
 ],
 "metadata": {
  "kernelspec": {
   "display_name": "base",
   "language": "python",
   "name": "python3"
  },
  "language_info": {
   "codemirror_mode": {
    "name": "ipython",
    "version": 3
   },
   "file_extension": ".py",
   "mimetype": "text/x-python",
   "name": "python",
   "nbconvert_exporter": "python",
   "pygments_lexer": "ipython3",
   "version": "3.11.4"
  }
 },
 "nbformat": 4,
 "nbformat_minor": 2
}
